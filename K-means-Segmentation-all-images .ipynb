{
 "cells": [
  {
   "cell_type": "code",
   "execution_count": 2,
   "metadata": {},
   "outputs": [],
   "source": [
    "import pandas as pd\n",
    "import numpy as np\n",
    "import matplotlib as mpl\n",
    "import matplotlib.pyplot as plt\n",
    "import os\n",
    "import glob as gb\n",
    "from sklearn.cluster import KMeans\n",
    "import cv2\n",
    "from PIL import Image\n",
    "from tqdm import tqdm"
   ]
  },
  {
   "cell_type": "code",
   "execution_count": 2,
   "metadata": {},
   "outputs": [],
   "source": [
    "melanoma_train_path = 'D://Faculty Work//Master//Work//melanoma skin cancer detection//Implementation//DataSet//ISIC2019//data2019v2//training80//melanoma//'\n",
    "nonMelanoma_train_path='D://Faculty Work//Master//Work//melanoma skin cancer detection//Implementation//DataSet//ISIC2019//data2019v2//training80//non_melanoma//'\n",
    "melanoma_val_path = 'D://Faculty Work//Master//Work//melanoma skin cancer detection//Implementation//DataSet//ISIC2019//data2019v2//validation10//melanoma//'\n",
    "nonMelanoma_val_path='D://Faculty Work//Master//Work//melanoma skin cancer detection//Implementation//DataSet//ISIC2019//data2019v2//validation10//non_melanoma//'\n",
    "melanoma_test_path = 'D://Faculty Work//Master//Work//melanoma skin cancer detection//Implementation//DataSet//ISIC2019//data2019v2//testing10//melanoma//'\n",
    "nonMelanoma_test_path='D://Faculty Work//Master//Work//melanoma skin cancer detection//Implementation//DataSet//ISIC2019//data2019v2//testing10//non_melanoma//'\n"
   ]
  },
  {
   "cell_type": "code",
   "execution_count": 3,
   "metadata": {},
   "outputs": [],
   "source": [
    "KMeans = KMeans(n_clusters=2)"
   ]
  },
  {
   "cell_type": "markdown",
   "metadata": {},
   "source": [
    "#  Starting with images in train_path for melanoma"
   ]
  },
  {
   "cell_type": "code",
   "execution_count": 5,
   "metadata": {},
   "outputs": [
    {
     "name": "stderr",
     "output_type": "stream",
     "text": [
      "100%|██████████| 2858/2858 [2:12:06<00:00,  2.77s/it]  \n"
     ]
    }
   ],
   "source": [
    "\n",
    "files = gb.glob(pathname= str( melanoma_train_path + '/*.jpg'))\n",
    "\n",
    "for imagepath in tqdm(files):\n",
    "    #read image from directory\n",
    "    image = mpl.image.imread(imagepath)\n",
    "    \n",
    "    #reshape to be ready for Kmeans Segmentation\n",
    "    X = image.reshape(-1,3)\n",
    "    \n",
    "    #implement Segmentation\n",
    "    KMeans.fit(X)\n",
    "    segmented_img_old = KMeans.cluster_centers_[KMeans.labels_]\n",
    "    \n",
    "    #return segment image to its original shape.\n",
    "    segmented_img =segmented_img_old.reshape(image.shape)\n",
    "    \n",
    "    #save name of input image to be the same name of the mask\n",
    "    nameOfImage_jpg=imagepath[len(melanoma_train_path)-1:]\n",
    "    onlyNameOfImage=nameOfImage_jpg.split('.')[0]\n",
    "    \n",
    "    #save first mask with RGB Colorspace after implementation\n",
    "    cv2.imwrite(\"C://Users//Mansour//Downloads//Python_work//Segmentation//K-means//Final Results//training80//melanoma//RGB_Mask//\"+onlyNameOfImage+\".png\",cv2.cvtColor(segmented_img.astype(\"uint8\"), cv2.COLOR_BGR2RGB))\n",
    "    \n",
    "    #save Binary image Bitmap image\n",
    "    img= Image.open(\"C://Users//Mansour//Downloads//Python_work//Segmentation//K-means//Final Results//training80//melanoma//RGB_Mask//\"+onlyNameOfImage+\".png\")\n",
    "    gray = img.convert('L')\n",
    "    bw = gray.point(lambda x: 0 if x<128 else 255, '1')\n",
    "    bw.save(\"C://Users//Mansour//Downloads//Python_work//Segmentation//K-means//Final Results//training80//melanoma//Bitmap_Mask//\"+onlyNameOfImage+\".png\")"
   ]
  },
  {
   "cell_type": "markdown",
   "metadata": {},
   "source": [
    "# images in train_path for Non melanoma"
   ]
  },
  {
   "cell_type": "code",
   "execution_count": 12,
   "metadata": {},
   "outputs": [
    {
     "name": "stderr",
     "output_type": "stream",
     "text": [
      "100%|██████████| 2858/2858 [1:56:00<00:00,  2.44s/it]\n"
     ]
    }
   ],
   "source": [
    "\n",
    "files = gb.glob(pathname= str( nonMelanoma_train_path + '/*.jpg'))\n",
    "\n",
    "for imagepath in tqdm(files):\n",
    "    #read image from directory\n",
    "    image = mpl.image.imread(imagepath)\n",
    "    \n",
    "    #reshape to be ready for Kmeans Segmentation\n",
    "    X = image.reshape(-1,3)\n",
    "    \n",
    "    #implement Segmentation\n",
    "    KMeans.fit(X)\n",
    "    segmented_img_old = KMeans.cluster_centers_[KMeans.labels_]\n",
    "    \n",
    "    #return segment image to its original shape.\n",
    "    segmented_img =segmented_img_old.reshape(image.shape)\n",
    "    \n",
    "    #save name of input image to be the same name of the mask\n",
    "    nameOfImage_jpg=imagepath[len(nonMelanoma_train_path)-1:]\n",
    "    onlyNameOfImage=nameOfImage_jpg.split('.')[0]\n",
    "    \n",
    "    #save first mask with RGB Colorspace after implementation\n",
    "    cv2.imwrite(\"C://Users//Mansour//Downloads//Python_work//Segmentation//K-means//Final Results//training80//non_melanoma//RGB_Mask//\"+onlyNameOfImage+\".png\",cv2.cvtColor(segmented_img.astype(\"uint8\"), cv2.COLOR_BGR2RGB))\n",
    "    \n",
    "    #save Binary image Bitmap image\n",
    "    img= Image.open(\"C://Users//Mansour//Downloads//Python_work//Segmentation//K-means//Final Results//training80//non_melanoma//RGB_Mask//\"+onlyNameOfImage+\".png\")\n",
    "    gray = img.convert('L')\n",
    "    bw = gray.point(lambda x: 0 if x<128 else 255, '1')\n",
    "    bw.save(\"C://Users//Mansour//Downloads//Python_work//Segmentation//K-means//Final Results//training80//non_melanoma//Bitmap_Mask//\"+onlyNameOfImage+\".png\")"
   ]
  },
  {
   "cell_type": "markdown",
   "metadata": {},
   "source": [
    "# images in val path for Melanoma"
   ]
  },
  {
   "cell_type": "code",
   "execution_count": 4,
   "metadata": {},
   "outputs": [
    {
     "name": "stderr",
     "output_type": "stream",
     "text": [
      "100%|██████████| 357/357 [22:30<00:00,  3.78s/it]\n"
     ]
    }
   ],
   "source": [
    "files=[]\n",
    "files = gb.glob(pathname= str(melanoma_val_path + '/*.jpg'))\n",
    "\n",
    "for imagepath in tqdm(files):\n",
    "    #read image from directory\n",
    "    image = mpl.image.imread(imagepath)\n",
    "    \n",
    "    #reshape to be ready for Kmeans Segmentation\n",
    "    X = image.reshape(-1,3)\n",
    "    \n",
    "    #implement Segmentation\n",
    "    KMeans.fit(X)\n",
    "    segmented_img_old = KMeans.cluster_centers_[KMeans.labels_]\n",
    "    \n",
    "    #return segment image to its original shape.\n",
    "    segmented_img =segmented_img_old.reshape(image.shape)\n",
    "    \n",
    "    #save name of input image to be the same name of the mask\n",
    "    nameOfImage_jpg=imagepath[len(melanoma_val_path)-1:]\n",
    "    onlyNameOfImage=nameOfImage_jpg.split('.')[0]\n",
    "    \n",
    "    #save first mask with RGB Colorspace after implementation\n",
    "    cv2.imwrite(\"C://Users//Mansour//Downloads//Python_work//Segmentation//K-means//Final Results//validation10//melanoma//RGB_Mask//\"+onlyNameOfImage+\".png\",cv2.cvtColor(segmented_img.astype(\"uint8\"), cv2.COLOR_BGR2RGB))\n",
    "    \n",
    "    #save Binary image Bitmap image\n",
    "    img= Image.open(\"C://Users//Mansour//Downloads//Python_work//Segmentation//K-means//Final Results//validation10//melanoma//RGB_Mask//\"+onlyNameOfImage+\".png\")\n",
    "    gray = img.convert('L')\n",
    "    bw = gray.point(lambda x: 0 if x<128 else 255, '1')\n",
    "    bw.save(\"C://Users//Mansour//Downloads//Python_work//Segmentation//K-means//Final Results//validation10//melanoma//Bitmap_Mask//\"+onlyNameOfImage+\".png\")\n",
    "    "
   ]
  },
  {
   "cell_type": "markdown",
   "metadata": {},
   "source": [
    "# images in val path for Non Melanoma"
   ]
  },
  {
   "cell_type": "code",
   "execution_count": 5,
   "metadata": {},
   "outputs": [
    {
     "name": "stderr",
     "output_type": "stream",
     "text": [
      "100%|██████████| 357/357 [23:15<00:00,  3.91s/it]\n"
     ]
    }
   ],
   "source": [
    "files=[]\n",
    "files = gb.glob(pathname= str(nonMelanoma_val_path + '/*.jpg'))\n",
    "\n",
    "for imagepath in tqdm(files):\n",
    "    #read image from directory\n",
    "    image = mpl.image.imread(imagepath)\n",
    "    \n",
    "    #reshape to be ready for Kmeans Segmentation\n",
    "    X = image.reshape(-1,3)\n",
    "    \n",
    "    #implement Segmentation\n",
    "    KMeans.fit(X)\n",
    "    segmented_img_old = KMeans.cluster_centers_[KMeans.labels_]\n",
    "    \n",
    "    #return segment image to its original shape.\n",
    "    segmented_img =segmented_img_old.reshape(image.shape)\n",
    "    \n",
    "    #save name of input image to be the same name of the mask\n",
    "    nameOfImage_jpg=imagepath[len(nonMelanoma_val_path)-1:]\n",
    "    onlyNameOfImage=nameOfImage_jpg.split('.')[0]\n",
    "    \n",
    "    #save first mask with RGB Colorspace after implementation\n",
    "    cv2.imwrite(\"C://Users//Mansour//Downloads//Python_work//Segmentation//K-means//Final Results//validation10//non_melanoma//RGB_Mask//\"+onlyNameOfImage+\".png\",cv2.cvtColor(segmented_img.astype(\"uint8\"), cv2.COLOR_BGR2RGB))\n",
    "    \n",
    "    #save Binary image Bitmap image\n",
    "    img= Image.open(\"C://Users//Mansour//Downloads//Python_work//Segmentation//K-means//Final Results//validation10//non_melanoma//RGB_Mask//\"+onlyNameOfImage+\".png\")\n",
    "    gray = img.convert('L')\n",
    "    bw = gray.point(lambda x: 0 if x<128 else 255, '1')\n",
    "    bw.save(\"C://Users//Mansour//Downloads//Python_work//Segmentation//K-means//Final Results//validation10//non_melanoma//Bitmap_Mask//\"+onlyNameOfImage+\".png\")\n",
    "    "
   ]
  },
  {
   "cell_type": "markdown",
   "metadata": {},
   "source": [
    "# images in Test path for Melanoma"
   ]
  },
  {
   "cell_type": "code",
   "execution_count": 4,
   "metadata": {},
   "outputs": [
    {
     "name": "stderr",
     "output_type": "stream",
     "text": [
      "100%|██████████| 358/358 [23:11<00:00,  3.89s/it]\n"
     ]
    }
   ],
   "source": [
    "files=[]\n",
    "files = gb.glob(pathname= str(melanoma_test_path + '/*.jpg'))\n",
    "\n",
    "for imagepath in tqdm(files):\n",
    "    #read image from directory\n",
    "    image = mpl.image.imread(imagepath)\n",
    "    \n",
    "    #reshape to be ready for Kmeans Segmentation\n",
    "    X = image.reshape(-1,3)\n",
    "    \n",
    "    #implement Segmentation\n",
    "    KMeans.fit(X)\n",
    "    segmented_img_old = KMeans.cluster_centers_[KMeans.labels_]\n",
    "    \n",
    "    #return segment image to its original shape.\n",
    "    segmented_img =segmented_img_old.reshape(image.shape)\n",
    "    \n",
    "    #save name of input image to be the same name of the mask\n",
    "    nameOfImage_jpg=imagepath[len(melanoma_test_path)-1:]\n",
    "    onlyNameOfImage=nameOfImage_jpg.split('.')[0]\n",
    "    \n",
    "    #save first mask with RGB Colorspace after implementation\n",
    "    cv2.imwrite(\"C://Users//Mansour//Downloads//Python_work//Segmentation//K-means//Final Results//testing10//melanoma//RGB_Mask//\"+onlyNameOfImage+\".png\",cv2.cvtColor(segmented_img.astype(\"uint8\"), cv2.COLOR_BGR2RGB))\n",
    "    \n",
    "    #save Binary image Bitmap image\n",
    "    img= Image.open(\"C://Users//Mansour//Downloads//Python_work//Segmentation//K-means//Final Results//testing10//melanoma//RGB_Mask//\"+onlyNameOfImage+\".png\")\n",
    "    gray = img.convert('L')\n",
    "    bw = gray.point(lambda x: 0 if x<128 else 255, '1')\n",
    "    bw.save(\"C://Users//Mansour//Downloads//Python_work//Segmentation//K-means//Final Results//testing10//melanoma//Bitmap_Mask//\"+onlyNameOfImage+\".png\")\n",
    "    "
   ]
  },
  {
   "cell_type": "markdown",
   "metadata": {},
   "source": [
    "# images in Test path for Non_Melanoma"
   ]
  },
  {
   "cell_type": "code",
   "execution_count": 5,
   "metadata": {},
   "outputs": [
    {
     "name": "stderr",
     "output_type": "stream",
     "text": [
      "100%|██████████| 358/358 [24:53<00:00,  4.17s/it]\n"
     ]
    }
   ],
   "source": [
    "files=[]\n",
    "files = gb.glob(pathname= str(nonMelanoma_test_path + '/*.jpg'))\n",
    "\n",
    "for imagepath in tqdm(files):\n",
    "    #read image from directory\n",
    "    image = mpl.image.imread(imagepath)\n",
    "    \n",
    "    #reshape to be ready for Kmeans Segmentation\n",
    "    X = image.reshape(-1,3)\n",
    "    \n",
    "    #implement Segmentation\n",
    "    KMeans.fit(X)\n",
    "    segmented_img_old = KMeans.cluster_centers_[KMeans.labels_]\n",
    "    \n",
    "    #return segment image to its original shape.\n",
    "    segmented_img =segmented_img_old.reshape(image.shape)\n",
    "    \n",
    "    #save name of input image to be the same name of the mask\n",
    "    nameOfImage_jpg=imagepath[len(nonMelanoma_test_path)-1:]\n",
    "    onlyNameOfImage=nameOfImage_jpg.split('.')[0]\n",
    "    \n",
    "    #save first mask with RGB Colorspace after implementation\n",
    "    cv2.imwrite(\"C://Users//Mansour//Downloads//Python_work//Segmentation//K-means//Final Results//testing10//non_melanoma//RGB_Mask//\"+onlyNameOfImage+\".png\",cv2.cvtColor(segmented_img.astype(\"uint8\"), cv2.COLOR_BGR2RGB))\n",
    "    \n",
    "    #save Binary image Bitmap image\n",
    "    img= Image.open(\"C://Users//Mansour//Downloads//Python_work//Segmentation//K-means//Final Results//testing10//non_melanoma//RGB_Mask//\"+onlyNameOfImage+\".png\")\n",
    "    gray = img.convert('L')\n",
    "    bw = gray.point(lambda x: 0 if x<128 else 255, '1')\n",
    "    bw.save(\"C://Users//Mansour//Downloads//Python_work//Segmentation//K-means//Final Results//testing10//non_melanoma//Bitmap_Mask//\"+onlyNameOfImage+\".png\")\n",
    "    "
   ]
  },
  {
   "cell_type": "markdown",
   "metadata": {},
   "source": [
    "# Generating Correct Bitmap Mask (Binary image)"
   ]
  },
  {
   "cell_type": "code",
   "execution_count": 6,
   "metadata": {},
   "outputs": [],
   "source": [
    "melanoma_train_path_rgb_mask = 'C://Users//Mansour//Downloads//Python_work//Segmentation//K-means//Final Results//training80//melanoma//RGB_Mask//'\n",
    "nonMelanoma_train_path_rgb_mask='C://Users//Mansour//Downloads//Python_work//Segmentation//K-means//Final Results//training80//non_melanoma//RGB_Mask//'\n",
    "melanoma_val_path_rgb_mask = 'C://Users//Mansour//Downloads//Python_work//Segmentation//K-means//Final Results//validation10//melanoma//RGB_Mask//'\n",
    "nonMelanoma_val_path_rgb_mask='C://Users//Mansour//Downloads//Python_work//Segmentation//K-means//Final Results//validation10//non_melanoma//RGB_Mask//'\n",
    "melanoma_test_path_rgb_mask = 'C://Users//Mansour//Downloads//Python_work//Segmentation//K-means//Final Results//testing10//melanoma//RGB_Mask//'\n",
    "nonMelanoma_test_path_rgb_mask='C://Users//Mansour//Downloads//Python_work//Segmentation//K-means//Final Results//testing10//non_melanoma//RGB_Mask//'\n"
   ]
  },
  {
   "cell_type": "markdown",
   "metadata": {},
   "source": [
    "# Method 02: Otsu's Method"
   ]
  },
  {
   "cell_type": "code",
   "execution_count": 13,
   "metadata": {},
   "outputs": [
    {
     "name": "stderr",
     "output_type": "stream",
     "text": [
      "100%|██████████| 2858/2858 [00:51<00:00, 55.60it/s] \n"
     ]
    }
   ],
   "source": [
    "#************* images of training with Melanoma ********************\n",
    "files = gb.glob(pathname= str( melanoma_train_path_rgb_mask + '/*.png'))\n",
    "\n",
    "for imagepath in tqdm(files):\n",
    "    img = cv2.imread(imagepath, cv2.IMREAD_GRAYSCALE)\n",
    "    _, binary_image_otsu = cv2.threshold(img, 0, 255, cv2.THRESH_BINARY + cv2.THRESH_OTSU)\n",
    "    binary_image_otsu_inverted = 255 - binary_image_otsu\n",
    "    \n",
    "    #save name of input image to be the same name of the mask\n",
    "    nameOfImage_png=imagepath[len(melanoma_train_path_rgb_mask)-1:]\n",
    "    onlyNameOfImage=nameOfImage_png.split('.')[0]\n",
    "    \n",
    "    cv2.imwrite(\"C://Users//Mansour//Downloads//Python_work//Segmentation//K-means//Final Results//training80//melanoma//Bitmap_Mask_Otsu//\"+onlyNameOfImage+\".png\", binary_image_otsu_inverted)"
   ]
  },
  {
   "cell_type": "code",
   "execution_count": 14,
   "metadata": {},
   "outputs": [
    {
     "name": "stderr",
     "output_type": "stream",
     "text": [
      "100%|██████████| 2858/2858 [00:43<00:00, 65.87it/s] \n"
     ]
    }
   ],
   "source": [
    "#************* images of training with Non-Melanoma ********************\n",
    "files = gb.glob(pathname= str( nonMelanoma_train_path_rgb_mask + '/*.png'))\n",
    "\n",
    "for imagepath in tqdm(files):\n",
    "    img = cv2.imread(imagepath, cv2.IMREAD_GRAYSCALE)\n",
    "    _, binary_image_otsu = cv2.threshold(img, 0, 255, cv2.THRESH_BINARY + cv2.THRESH_OTSU)\n",
    "    binary_image_otsu_inverted = 255 - binary_image_otsu\n",
    "    \n",
    "    #save name of input image to be the same name of the mask\n",
    "    nameOfImage_png=imagepath[len(nonMelanoma_train_path_rgb_mask)-1:]\n",
    "    onlyNameOfImage=nameOfImage_png.split('.')[0]\n",
    "    \n",
    "    cv2.imwrite(\"C://Users//Mansour//Downloads//Python_work//Segmentation//K-means//Final Results//training80//non_melanoma//Bitmap_Mask_Otsu//\"+onlyNameOfImage+\".png\", binary_image_otsu_inverted)"
   ]
  },
  {
   "cell_type": "code",
   "execution_count": 15,
   "metadata": {},
   "outputs": [
    {
     "name": "stderr",
     "output_type": "stream",
     "text": [
      "100%|██████████| 357/357 [00:09<00:00, 37.67it/s]\n"
     ]
    }
   ],
   "source": [
    "#************* images of Validation with Melanoma ********************\n",
    "files = gb.glob(pathname= str( melanoma_val_path_rgb_mask + '/*.png'))\n",
    "\n",
    "for imagepath in tqdm(files):\n",
    "    img = cv2.imread(imagepath, cv2.IMREAD_GRAYSCALE)\n",
    "    _, binary_image_otsu = cv2.threshold(img, 0, 255, cv2.THRESH_BINARY + cv2.THRESH_OTSU)\n",
    "    binary_image_otsu_inverted = 255 - binary_image_otsu\n",
    "    \n",
    "    #save name of input image to be the same name of the mask\n",
    "    nameOfImage_png=imagepath[len(melanoma_val_path_rgb_mask)-1:]\n",
    "    onlyNameOfImage=nameOfImage_png.split('.')[0]\n",
    "    \n",
    "    cv2.imwrite(\"C://Users//Mansour//Downloads//Python_work//Segmentation//K-means//Final Results//validation10//melanoma//Bitmap_Mask_Otsu//\"+onlyNameOfImage+\".png\", binary_image_otsu_inverted)"
   ]
  },
  {
   "cell_type": "code",
   "execution_count": 16,
   "metadata": {},
   "outputs": [
    {
     "name": "stderr",
     "output_type": "stream",
     "text": [
      "100%|██████████| 357/357 [00:10<00:00, 35.23it/s]\n"
     ]
    }
   ],
   "source": [
    "#************* images of Validation with Non_Melanoma ********************\n",
    "files = gb.glob(pathname= str( nonMelanoma_val_path_rgb_mask + '/*.png'))\n",
    "\n",
    "for imagepath in tqdm(files):\n",
    "    img = cv2.imread(imagepath, cv2.IMREAD_GRAYSCALE)\n",
    "    _, binary_image_otsu = cv2.threshold(img, 0, 255, cv2.THRESH_BINARY + cv2.THRESH_OTSU)\n",
    "    binary_image_otsu_inverted = 255 - binary_image_otsu\n",
    "    \n",
    "    #save name of input image to be the same name of the mask\n",
    "    nameOfImage_png=imagepath[len(nonMelanoma_val_path_rgb_mask)-1:]\n",
    "    onlyNameOfImage=nameOfImage_png.split('.')[0]\n",
    "    \n",
    "    cv2.imwrite(\"C://Users//Mansour//Downloads//Python_work//Segmentation//K-means//Final Results//validation10//non_melanoma//Bitmap_Mask_Otsu//\"+onlyNameOfImage+\".png\", binary_image_otsu_inverted)"
   ]
  },
  {
   "cell_type": "code",
   "execution_count": 7,
   "metadata": {},
   "outputs": [
    {
     "name": "stderr",
     "output_type": "stream",
     "text": [
      "100%|██████████| 358/358 [00:09<00:00, 36.58it/s]\n"
     ]
    }
   ],
   "source": [
    "#************* images of Testing with Melanoma ********************\n",
    "files = gb.glob(pathname= str( melanoma_test_path_rgb_mask + '/*.png'))\n",
    "\n",
    "for imagepath in tqdm(files):\n",
    "    img = cv2.imread(imagepath, cv2.IMREAD_GRAYSCALE)\n",
    "    _, binary_image_otsu = cv2.threshold(img, 0, 255, cv2.THRESH_BINARY + cv2.THRESH_OTSU)\n",
    "    binary_image_otsu_inverted = 255 - binary_image_otsu\n",
    "    \n",
    "    #save name of input image to be the same name of the mask\n",
    "    nameOfImage_png=imagepath[len(melanoma_test_path_rgb_mask)-1:]\n",
    "    onlyNameOfImage=nameOfImage_png.split('.')[0]\n",
    "    \n",
    "    cv2.imwrite(\"C://Users//Mansour//Downloads//Python_work//Segmentation//K-means//Final Results//testing10//melanoma//Bitmap_Mask_Otsu//\"+onlyNameOfImage+\".png\", binary_image_otsu_inverted)"
   ]
  },
  {
   "cell_type": "code",
   "execution_count": 8,
   "metadata": {},
   "outputs": [
    {
     "name": "stderr",
     "output_type": "stream",
     "text": [
      "100%|██████████| 358/358 [00:09<00:00, 39.08it/s]\n"
     ]
    }
   ],
   "source": [
    "#************* images of Testing with Non_Melanoma ********************\n",
    "files = gb.glob(pathname= str( nonMelanoma_test_path_rgb_mask + '/*.png'))\n",
    "\n",
    "for imagepath in tqdm(files):\n",
    "    img = cv2.imread(imagepath, cv2.IMREAD_GRAYSCALE)\n",
    "    _, binary_image_otsu = cv2.threshold(img, 0, 255, cv2.THRESH_BINARY + cv2.THRESH_OTSU)\n",
    "    binary_image_otsu_inverted = 255 - binary_image_otsu\n",
    "    \n",
    "    #save name of input image to be the same name of the mask\n",
    "    nameOfImage_png=imagepath[len(nonMelanoma_test_path_rgb_mask)-1:]\n",
    "    onlyNameOfImage=nameOfImage_png.split('.')[0]\n",
    "    \n",
    "    cv2.imwrite(\"C://Users//Mansour//Downloads//Python_work//Segmentation//K-means//Final Results//testing10//non_melanoma//Bitmap_Mask_Otsu//\"+onlyNameOfImage+\".png\", binary_image_otsu_inverted)"
   ]
  },
  {
   "cell_type": "markdown",
   "metadata": {},
   "source": [
    "# combining original images with masks"
   ]
  },
  {
   "cell_type": "code",
   "execution_count": 1,
   "metadata": {},
   "outputs": [],
   "source": [
    "melanoma_train_path_mask = 'C://Users//Mansour//Downloads//Python_work//Segmentation//K-means//Final Results//training80//melanoma//Bitmap_Mask_Otsu//'\n",
    "nonMelanoma_train_path_mask='C://Users//Mansour//Downloads//Python_work//Segmentation//K-means//Final Results//training80//non_melanoma//Bitmap_Mask_Otsu//'\n",
    "melanoma_val_path_mask = 'C://Users//Mansour//Downloads//Python_work//Segmentation//K-means//Final Results//validation10//melanoma//Bitmap_Mask_Otsu//'\n",
    "nonMelanoma_val_path_mask='C://Users//Mansour//Downloads//Python_work//Segmentation//K-means//Final Results//validation10//non_melanoma//Bitmap_Mask_Otsu//'\n",
    "melanoma_test_path_mask = 'C://Users//Mansour//Downloads//Python_work//Segmentation//K-means//Final Results//testing10//melanoma//Bitmap_Mask_Otsu//'\n",
    "nonMelanoma_test_path_mask='C://Users//Mansour//Downloads//Python_work//Segmentation//K-means//Final Results//testing10//non_melanoma//Bitmap_Mask_Otsu//'\n",
    "\n",
    "melanoma_train_path_original = 'D://Faculty Work//Master//Work//melanoma skin cancer detection//Implementation//DataSet//ISIC2019//data2019v2//training80//melanoma//'\n",
    "nonMelanoma_train_path_original='D://Faculty Work//Master//Work//melanoma skin cancer detection//Implementation//DataSet//ISIC2019//data2019v2//training80//non_melanoma//'\n",
    "melanoma_val_path_original = 'D://Faculty Work//Master//Work//melanoma skin cancer detection//Implementation//DataSet//ISIC2019//data2019v2//validation10//melanoma//'\n",
    "nonMelanoma_val_path_original='D://Faculty Work//Master//Work//melanoma skin cancer detection//Implementation//DataSet//ISIC2019//data2019v2//validation10//non_melanoma//'\n",
    "melanoma_test_path_original = 'D://Faculty Work//Master//Work//melanoma skin cancer detection//Implementation//DataSet//ISIC2019//data2019v2//testing10//melanoma//'\n",
    "nonMelanoma_test_path_original='D://Faculty Work//Master//Work//melanoma skin cancer detection//Implementation//DataSet//ISIC2019//data2019v2//testing10//non_melanoma//'\n",
    "\n",
    "dest_melanoma_train_path_no_percentage = 'C://Users//Mansour//Downloads//Python_work//Segmentation//K-means//Final Results//training80//melanoma//ROI_no_percentage//'\n",
    "dest_nonMelanoma_train_path_no_percentage='C://Users//Mansour//Downloads//Python_work//Segmentation//K-means//Final Results//training80//non_melanoma//ROI_no_percentage//'\n",
    "dest_melanoma_val_path_no_percentage = 'C://Users//Mansour//Downloads//Python_work//Segmentation//K-means//Final Results//validation10//melanoma//ROI_no_percentage//'\n",
    "dest_nonMelanoma_val_path_no_percentage='C://Users//Mansour//Downloads//Python_work//Segmentation//K-means//Final Results//validation10//non_melanoma//ROI_no_percentage//'\n",
    "dest_melanoma_test_path_no_percentage = 'C://Users//Mansour//Downloads//Python_work//Segmentation//K-means//Final Results//testing10//melanoma//ROI_no_percentage//'\n",
    "dest_nonMelanoma_test_path_no_percentage='C://Users//Mansour//Downloads//Python_work//Segmentation//K-means//Final Results//testing10//non_melanoma//ROI_no_percentage//'\n",
    "\n",
    "dest_melanoma_train_path_with_percentage = 'C://Users//Mansour//Downloads//Python_work//Segmentation//K-means//Final Results//training80//melanoma//ROI_with_percentage_85//'\n",
    "dest_nonMelanoma_train_path_with_percentage='C://Users//Mansour//Downloads//Python_work//Segmentation//K-means//Final Results//training80//non_melanoma//ROI_with_percentage_85//'\n",
    "dest_melanoma_val_path_with_percentage = 'C://Users//Mansour//Downloads//Python_work//Segmentation//K-means//Final Results//validation10//melanoma//ROI_with_percentage_85//'\n",
    "dest_nonMelanoma_val_path_with_percentage='C://Users//Mansour//Downloads//Python_work//Segmentation//K-means//Final Results//validation10//non_melanoma//ROI_with_percentage_85//'\n",
    "dest_melanoma_test_path_with_percentage = 'C://Users//Mansour//Downloads//Python_work//Segmentation//K-means//Final Results//testing10//melanoma//ROI_with_percentage_85//'\n",
    "dest_nonMelanoma_test_path_with_percentage='C://Users//Mansour//Downloads//Python_work//Segmentation//K-means//Final Results//testing10//non_melanoma//ROI_with_percentage_85//'\n"
   ]
  },
  {
   "cell_type": "markdown",
   "metadata": {},
   "source": [
    "# No Percentage : get final images with compining segmented image and original images and perform Morphological opning"
   ]
  },
  {
   "cell_type": "code",
   "execution_count": 10,
   "metadata": {},
   "outputs": [
    {
     "name": "stderr",
     "output_type": "stream",
     "text": [
      "2858it [05:00,  9.52it/s]\n"
     ]
    }
   ],
   "source": [
    "#************* images of Training with Melanoma ********************\n",
    "mask_files = gb.glob(pathname= str( melanoma_train_path_mask + '/*.png'))\n",
    "original_files = gb.glob(pathname= str( melanoma_train_path_original + '/*.jpg'))     \n",
    "\n",
    "for mask_image,original_image in tqdm(zip(mask_files,original_files)):\n",
    "    #first apply opening in mask image\n",
    "    binary_mask = cv2.imread(mask_image)\n",
    "    \n",
    "    # Kernel for morphological operations\n",
    "    kernel = np.ones((5, 5), np.uint8)\n",
    "    #opening (erosion followed by dilation)\n",
    "    opened_mask = cv2.morphologyEx(binary_mask, cv2.MORPH_OPEN, kernel)\n",
    "    \n",
    "    #second : apply extraction of ROI (Region of Interest)\n",
    "    original_image = cv2.imread(original_image)\n",
    "    \n",
    "    # Apply the mask (element-wise multiplication)\n",
    "    roi = cv2.bitwise_and(original_image, opened_mask)\n",
    "    \n",
    "    #get name of input image to be the same name of roi image\n",
    "    onlyNameOfImage=mask_image[len(melanoma_train_path_mask)-1:]\n",
    "    \n",
    "    #save final image result\n",
    "    cv2.imwrite(dest_melanoma_train_path_no_percentage+onlyNameOfImage, roi)"
   ]
  },
  {
   "cell_type": "code",
   "execution_count": 11,
   "metadata": {},
   "outputs": [
    {
     "name": "stderr",
     "output_type": "stream",
     "text": [
      "2858it [03:55, 12.12it/s]\n"
     ]
    }
   ],
   "source": [
    "#************* images of Training with Non_Melanoma ********************\n",
    "mask_files = gb.glob(pathname= str( nonMelanoma_train_path_mask + '/*.png'))\n",
    "original_files = gb.glob(pathname= str( nonMelanoma_train_path_original + '/*.jpg'))     \n",
    "\n",
    "for mask_image,original_image in tqdm(zip(mask_files,original_files)):\n",
    "    #first apply opening in mask image\n",
    "    binary_mask = cv2.imread(mask_image)\n",
    "    \n",
    "    # Kernel for morphological operations\n",
    "    kernel = np.ones((5, 5), np.uint8)\n",
    "    #opening (erosion followed by dilation)\n",
    "    opened_mask = cv2.morphologyEx(binary_mask, cv2.MORPH_OPEN, kernel)\n",
    "    \n",
    "    #second : apply extraction of ROI (Region of Interest)\n",
    "    original_image = cv2.imread(original_image)\n",
    "    \n",
    "    # Apply the mask (element-wise multiplication)\n",
    "    roi = cv2.bitwise_and(original_image, opened_mask)\n",
    "    \n",
    "    #get name of input image to be the same name of roi image\n",
    "    onlyNameOfImage=mask_image[len(nonMelanoma_train_path_mask)-1:]\n",
    "    \n",
    "    #save final image result\n",
    "    cv2.imwrite(dest_nonMelanoma_train_path_no_percentage+onlyNameOfImage, roi)"
   ]
  },
  {
   "cell_type": "code",
   "execution_count": 12,
   "metadata": {},
   "outputs": [
    {
     "name": "stderr",
     "output_type": "stream",
     "text": [
      "357it [00:46,  7.71it/s]\n"
     ]
    }
   ],
   "source": [
    "#************* images of Validation with Melanoma ********************\n",
    "mask_files = gb.glob(pathname= str( melanoma_val_path_mask + '/*.png'))\n",
    "original_files = gb.glob(pathname= str( melanoma_val_path_original + '/*.jpg'))     \n",
    "\n",
    "for mask_image,original_image in tqdm(zip(mask_files,original_files)):\n",
    "    #first apply opening in mask image\n",
    "    binary_mask = cv2.imread(mask_image)\n",
    "    \n",
    "    # Kernel for morphological operations\n",
    "    kernel = np.ones((5, 5), np.uint8)\n",
    "    #opening (erosion followed by dilation)\n",
    "    opened_mask = cv2.morphologyEx(binary_mask, cv2.MORPH_OPEN, kernel)\n",
    "    \n",
    "    #second : apply extraction of ROI (Region of Interest)\n",
    "    original_image = cv2.imread(original_image)\n",
    "    \n",
    "    # Apply the mask (element-wise multiplication)\n",
    "    roi = cv2.bitwise_and(original_image, opened_mask)\n",
    "    \n",
    "    #get name of input image to be the same name of roi image\n",
    "    onlyNameOfImage=mask_image[len(melanoma_val_path_mask)-1:]\n",
    "    \n",
    "    #save final image result\n",
    "    cv2.imwrite(dest_melanoma_val_path_no_percentage+onlyNameOfImage, roi)"
   ]
  },
  {
   "cell_type": "code",
   "execution_count": 13,
   "metadata": {},
   "outputs": [
    {
     "name": "stderr",
     "output_type": "stream",
     "text": [
      "357it [00:41,  8.54it/s]\n"
     ]
    }
   ],
   "source": [
    "#************* images of Validation with Non_Melanoma ********************\n",
    "mask_files = gb.glob(pathname= str( nonMelanoma_val_path_mask + '/*.png'))\n",
    "original_files = gb.glob(pathname= str( nonMelanoma_val_path_original + '/*.jpg'))     \n",
    "\n",
    "for mask_image,original_image in tqdm(zip(mask_files,original_files)):\n",
    "    #first apply opening in mask image\n",
    "    binary_mask = cv2.imread(mask_image)\n",
    "    \n",
    "    # Kernel for morphological operations\n",
    "    kernel = np.ones((5, 5), np.uint8)\n",
    "    #opening (erosion followed by dilation)\n",
    "    opened_mask = cv2.morphologyEx(binary_mask, cv2.MORPH_OPEN, kernel)\n",
    "    \n",
    "    #second : apply extraction of ROI (Region of Interest)\n",
    "    original_image = cv2.imread(original_image)\n",
    "    \n",
    "    # Apply the mask (element-wise multiplication)\n",
    "    roi = cv2.bitwise_and(original_image, opened_mask)\n",
    "    \n",
    "    #get name of input image to be the same name of roi image\n",
    "    onlyNameOfImage=mask_image[len(nonMelanoma_val_path_mask)-1:]\n",
    "    \n",
    "    #save final image result\n",
    "    cv2.imwrite(dest_nonMelanoma_val_path_no_percentage+onlyNameOfImage, roi)"
   ]
  },
  {
   "cell_type": "code",
   "execution_count": 10,
   "metadata": {},
   "outputs": [
    {
     "name": "stderr",
     "output_type": "stream",
     "text": [
      "358it [00:38,  9.42it/s]\n"
     ]
    }
   ],
   "source": [
    "#************* images of testing with Melanoma ********************\n",
    "mask_files = gb.glob(pathname= str( melanoma_test_path_mask + '/*.png'))\n",
    "original_files = gb.glob(pathname= str( melanoma_test_path_original + '/*.jpg'))     \n",
    "\n",
    "for mask_image,original_image in tqdm(zip(mask_files,original_files)):\n",
    "    #first apply opening in mask image\n",
    "    binary_mask = cv2.imread(mask_image)\n",
    "    \n",
    "    # Kernel for morphological operations\n",
    "    kernel = np.ones((5, 5), np.uint8)\n",
    "    #opening (erosion followed by dilation)\n",
    "    opened_mask = cv2.morphologyEx(binary_mask, cv2.MORPH_OPEN, kernel)\n",
    "    \n",
    "    #second : apply extraction of ROI (Region of Interest)\n",
    "    original_image = cv2.imread(original_image)\n",
    "    \n",
    "    # Apply the mask (element-wise multiplication)\n",
    "    roi = cv2.bitwise_and(original_image, opened_mask)\n",
    "    \n",
    "    #get name of input image to be the same name of roi image\n",
    "    onlyNameOfImage=mask_image[len(melanoma_test_path_mask)-1:]\n",
    "    \n",
    "    #save final image result\n",
    "    cv2.imwrite(dest_melanoma_test_path_no_percentage+onlyNameOfImage, roi)"
   ]
  },
  {
   "cell_type": "code",
   "execution_count": 11,
   "metadata": {},
   "outputs": [
    {
     "name": "stderr",
     "output_type": "stream",
     "text": [
      "358it [00:30, 11.77it/s]\n"
     ]
    }
   ],
   "source": [
    "#************* images of testing with Non_Melanoma ********************\n",
    "mask_files = gb.glob(pathname= str( nonMelanoma_test_path_mask + '/*.png'))\n",
    "original_files = gb.glob(pathname= str( nonMelanoma_test_path_original + '/*.jpg'))     \n",
    "\n",
    "for mask_image,original_image in tqdm(zip(mask_files,original_files)):\n",
    "    #first apply opening in mask image\n",
    "    binary_mask = cv2.imread(mask_image)\n",
    "    \n",
    "    # Kernel for morphological operations\n",
    "    kernel = np.ones((5, 5), np.uint8)\n",
    "    #opening (erosion followed by dilation)\n",
    "    opened_mask = cv2.morphologyEx(binary_mask, cv2.MORPH_OPEN, kernel)\n",
    "    \n",
    "    #second : apply extraction of ROI (Region of Interest)\n",
    "    original_image = cv2.imread(original_image)\n",
    "    \n",
    "    # Apply the mask (element-wise multiplication)\n",
    "    roi = cv2.bitwise_and(original_image, opened_mask)\n",
    "    \n",
    "    #get name of input image to be the same name of roi image\n",
    "    onlyNameOfImage=mask_image[len(nonMelanoma_test_path_mask)-1:]\n",
    "    \n",
    "    #save final image result\n",
    "    cv2.imwrite(dest_nonMelanoma_test_path_no_percentage+onlyNameOfImage, roi)"
   ]
  },
  {
   "cell_type": "markdown",
   "metadata": {},
   "source": [
    "# With Percentage : get final images based on percentage of black pixels in previous image results"
   ]
  },
  {
   "cell_type": "code",
   "execution_count": 3,
   "metadata": {},
   "outputs": [
    {
     "name": "stderr",
     "output_type": "stream",
     "text": [
      "2858it [10:05,  4.72it/s]\n"
     ]
    }
   ],
   "source": [
    "#************* images of Training with Melanoma ********************\n",
    "segmented_files = gb.glob(pathname= str( dest_melanoma_train_path_no_percentage + '/*.png'))\n",
    "original_files = gb.glob(pathname= str( melanoma_train_path_original + '/*.jpg'))     \n",
    "\n",
    "for segmented,original in tqdm(zip(segmented_files,original_files)):\n",
    "    #first get images and name of image\n",
    "    segmented_image = cv2.imread(segmented)\n",
    "    original_image = cv2.imread(original)\n",
    "    \n",
    "    #get name of input image to be the same name of final image\n",
    "    onlyNameOfImage=segmented[len(dest_melanoma_train_path_no_percentage)-1:]\n",
    "    \n",
    "    # Percentage\n",
    "    # Calculate the total number of pixels\n",
    "    total_pixels = segmented_image.size\n",
    "    \n",
    "    # Calculate the number of black pixels\n",
    "    # Since it's grayscale, black pixels are 0,1,2,3,4,5\n",
    "    black_pixels = np.sum(segmented_image == 0)\n",
    "    black_pixels += np.sum(segmented_image == 1 )\n",
    "    black_pixels += np.sum(segmented_image == 2 )\n",
    "    black_pixels += np.sum(segmented_image == 3 )\n",
    "    black_pixels += np.sum(segmented_image == 4 )\n",
    "    black_pixels += np.sum(segmented_image == 5 )\n",
    "    black_pixels += np.sum(segmented_image == 6 )\n",
    "    black_pixels += np.sum(segmented_image == 7 )\n",
    "    black_pixels += np.sum(segmented_image == 8 )\n",
    "    black_pixels += np.sum(segmented_image == 9 )\n",
    "    black_pixels += np.sum(segmented_image == 10 )\n",
    "    \n",
    "    # Calculate the percentage of white and black pixels\n",
    "    percentage_black = (black_pixels / total_pixels) * 100\n",
    "    \n",
    "    threshold = 85\n",
    "    if percentage_black > threshold:\n",
    "        # If the image is mostly  black, use the entire image\n",
    "        cv2.imwrite(dest_melanoma_train_path_with_percentage+onlyNameOfImage, original_image)\n",
    "    else:\n",
    "        # If image contain segmentation with correct or visible regions keep it\n",
    "        cv2.imwrite(dest_melanoma_train_path_with_percentage+onlyNameOfImage, segmented_image)\n",
    "           \n",
    "    "
   ]
  },
  {
   "cell_type": "code",
   "execution_count": 4,
   "metadata": {},
   "outputs": [
    {
     "name": "stderr",
     "output_type": "stream",
     "text": [
      "2858it [06:42,  7.11it/s]\n"
     ]
    }
   ],
   "source": [
    "#************* images of Training with Non_Melanoma ********************\n",
    "segmented_files = gb.glob(pathname= str( dest_nonMelanoma_train_path_no_percentage + '/*.png'))\n",
    "original_files = gb.glob(pathname= str( nonMelanoma_train_path_original + '/*.jpg'))     \n",
    "\n",
    "for segmented,original in tqdm(zip(segmented_files,original_files)):\n",
    "    #first get images and name of image\n",
    "    segmented_image = cv2.imread(segmented)\n",
    "    original_image = cv2.imread(original)\n",
    "    \n",
    "    #get name of input image to be the same name of final image\n",
    "    onlyNameOfImage=segmented[len(dest_nonMelanoma_train_path_no_percentage)-1:]\n",
    "    \n",
    "    # Percentage\n",
    "    # Calculate the total number of pixels\n",
    "    total_pixels = segmented_image.size\n",
    "    \n",
    "    # Calculate the number of black pixels\n",
    "    # Since it's grayscale, black pixels are 0,1,2,3,4,5\n",
    "    black_pixels = np.sum(segmented_image == 0)\n",
    "    black_pixels += np.sum(segmented_image == 1 )\n",
    "    black_pixels += np.sum(segmented_image == 2 )\n",
    "    black_pixels += np.sum(segmented_image == 3 )\n",
    "    black_pixels += np.sum(segmented_image == 4 )\n",
    "    black_pixels += np.sum(segmented_image == 5 )\n",
    "    black_pixels += np.sum(segmented_image == 6 )\n",
    "    black_pixels += np.sum(segmented_image == 7 )\n",
    "    black_pixels += np.sum(segmented_image == 8 )\n",
    "    black_pixels += np.sum(segmented_image == 9 )\n",
    "    black_pixels += np.sum(segmented_image == 10 )\n",
    "    \n",
    "    # Calculate the percentage of white and black pixels\n",
    "    percentage_black = (black_pixels / total_pixels) * 100\n",
    "    \n",
    "    threshold = 85\n",
    "    if percentage_black > threshold:\n",
    "        # If the image is mostly  black, use the entire image\n",
    "        cv2.imwrite(dest_nonMelanoma_train_path_with_percentage+onlyNameOfImage, original_image)\n",
    "    else:\n",
    "        # If image contain segmentation with correct or visible regions keep it\n",
    "        cv2.imwrite(dest_nonMelanoma_train_path_with_percentage+onlyNameOfImage, segmented_image)\n",
    "           \n"
   ]
  },
  {
   "cell_type": "code",
   "execution_count": 5,
   "metadata": {},
   "outputs": [
    {
     "name": "stderr",
     "output_type": "stream",
     "text": [
      "357it [01:30,  3.94it/s]\n"
     ]
    }
   ],
   "source": [
    "#************* images of Validation with Melanoma ********************\n",
    "segmented_files = gb.glob(pathname= str( dest_melanoma_val_path_no_percentage + '/*.png'))\n",
    "original_files = gb.glob(pathname= str( melanoma_val_path_original + '/*.jpg'))     \n",
    "\n",
    "for segmented,original in tqdm(zip(segmented_files,original_files)):\n",
    "    #first get images and name of image\n",
    "    segmented_image = cv2.imread(segmented)\n",
    "    original_image = cv2.imread(original)\n",
    "    \n",
    "    #get name of input image to be the same name of final image\n",
    "    onlyNameOfImage=segmented[len(dest_melanoma_val_path_no_percentage)-1:]\n",
    "    \n",
    "    # Percentage\n",
    "    # Calculate the total number of pixels\n",
    "    total_pixels = segmented_image.size\n",
    "    \n",
    "    # Calculate the number of black pixels\n",
    "    # Since it's grayscale, black pixels are 0,1,2,3,4,5\n",
    "    black_pixels = np.sum(segmented_image == 0)\n",
    "    black_pixels += np.sum(segmented_image == 1 )\n",
    "    black_pixels += np.sum(segmented_image == 2 )\n",
    "    black_pixels += np.sum(segmented_image == 3 )\n",
    "    black_pixels += np.sum(segmented_image == 4 )\n",
    "    black_pixels += np.sum(segmented_image == 5 )\n",
    "    black_pixels += np.sum(segmented_image == 6 )\n",
    "    black_pixels += np.sum(segmented_image == 7 )\n",
    "    black_pixels += np.sum(segmented_image == 8 )\n",
    "    black_pixels += np.sum(segmented_image == 9 )\n",
    "    black_pixels += np.sum(segmented_image == 10 )\n",
    "    \n",
    "    # Calculate the percentage of white and black pixels\n",
    "    percentage_black = (black_pixels / total_pixels) * 100\n",
    "    \n",
    "    threshold = 85\n",
    "    if percentage_black > threshold:\n",
    "        # If the image is mostly  black, use the entire image\n",
    "        cv2.imwrite(dest_melanoma_val_path_with_percentage+onlyNameOfImage, original_image)\n",
    "    else:\n",
    "        # If image contain segmentation with correct or visible regions keep it\n",
    "        cv2.imwrite(dest_melanoma_val_path_with_percentage+onlyNameOfImage, segmented_image)\n",
    "           \n"
   ]
  },
  {
   "cell_type": "code",
   "execution_count": 6,
   "metadata": {},
   "outputs": [
    {
     "name": "stderr",
     "output_type": "stream",
     "text": [
      "357it [01:51,  3.20it/s]\n"
     ]
    }
   ],
   "source": [
    "#************* images of Validation with Non_Melanoma ********************\n",
    "segmented_files = gb.glob(pathname= str( dest_nonMelanoma_val_path_no_percentage + '/*.png'))\n",
    "original_files = gb.glob(pathname= str( nonMelanoma_val_path_original + '/*.jpg'))     \n",
    "\n",
    "for segmented,original in tqdm(zip(segmented_files,original_files)):\n",
    "    #first get images and name of image\n",
    "    segmented_image = cv2.imread(segmented)\n",
    "    original_image = cv2.imread(original)\n",
    "    \n",
    "    #get name of input image to be the same name of final image\n",
    "    onlyNameOfImage=segmented[len(dest_nonMelanoma_val_path_no_percentage)-1:]\n",
    "    \n",
    "    # Percentage\n",
    "    # Calculate the total number of pixels\n",
    "    total_pixels = segmented_image.size\n",
    "    \n",
    "    # Calculate the number of black pixels\n",
    "    # Since it's grayscale, black pixels are 0,1,2,3,4,5\n",
    "    black_pixels = np.sum(segmented_image == 0)\n",
    "    black_pixels += np.sum(segmented_image == 1 )\n",
    "    black_pixels += np.sum(segmented_image == 2 )\n",
    "    black_pixels += np.sum(segmented_image == 3 )\n",
    "    black_pixels += np.sum(segmented_image == 4 )\n",
    "    black_pixels += np.sum(segmented_image == 5 )\n",
    "    black_pixels += np.sum(segmented_image == 6 )\n",
    "    black_pixels += np.sum(segmented_image == 7 )\n",
    "    black_pixels += np.sum(segmented_image == 8 )\n",
    "    black_pixels += np.sum(segmented_image == 9 )\n",
    "    black_pixels += np.sum(segmented_image == 10 )\n",
    "    \n",
    "    # Calculate the percentage of white and black pixels\n",
    "    percentage_black = (black_pixels / total_pixels) * 100\n",
    "    \n",
    "    threshold = 85\n",
    "    if percentage_black > threshold:\n",
    "        # If the image is mostly  black, use the entire image\n",
    "        cv2.imwrite(dest_nonMelanoma_val_path_with_percentage+onlyNameOfImage, original_image)\n",
    "    else:\n",
    "        # If image contain segmentation with correct or visible regions keep it\n",
    "        cv2.imwrite(dest_nonMelanoma_val_path_with_percentage+onlyNameOfImage, segmented_image)\n",
    "           \n"
   ]
  },
  {
   "cell_type": "code",
   "execution_count": 7,
   "metadata": {},
   "outputs": [
    {
     "name": "stderr",
     "output_type": "stream",
     "text": [
      "358it [01:44,  3.44it/s]\n"
     ]
    }
   ],
   "source": [
    "#************* images of testing with Melanoma ********************\n",
    "segmented_files = gb.glob(pathname= str( dest_melanoma_test_path_no_percentage + '/*.png'))\n",
    "original_files = gb.glob(pathname= str( melanoma_test_path_original + '/*.jpg'))     \n",
    "\n",
    "for segmented,original in tqdm(zip(segmented_files,original_files)):\n",
    "    #first get images and name of image\n",
    "    segmented_image = cv2.imread(segmented)\n",
    "    original_image = cv2.imread(original)\n",
    "    \n",
    "    #get name of input image to be the same name of final image\n",
    "    onlyNameOfImage=segmented[len(dest_melanoma_test_path_no_percentage)-1:]\n",
    "    \n",
    "    # Percentage\n",
    "    # Calculate the total number of pixels\n",
    "    total_pixels = segmented_image.size\n",
    "    \n",
    "    # Calculate the number of black pixels\n",
    "    # Since it's grayscale, black pixels are 0,1,2,3,4,5\n",
    "    black_pixels = np.sum(segmented_image == 0)\n",
    "    black_pixels += np.sum(segmented_image == 1 )\n",
    "    black_pixels += np.sum(segmented_image == 2 )\n",
    "    black_pixels += np.sum(segmented_image == 3 )\n",
    "    black_pixels += np.sum(segmented_image == 4 )\n",
    "    black_pixels += np.sum(segmented_image == 5 )\n",
    "    black_pixels += np.sum(segmented_image == 6 )\n",
    "    black_pixels += np.sum(segmented_image == 7 )\n",
    "    black_pixels += np.sum(segmented_image == 8 )\n",
    "    black_pixels += np.sum(segmented_image == 9 )\n",
    "    black_pixels += np.sum(segmented_image == 10 )\n",
    "    \n",
    "    # Calculate the percentage of white and black pixels\n",
    "    percentage_black = (black_pixels / total_pixels) * 100\n",
    "    \n",
    "    threshold = 85\n",
    "    if percentage_black > threshold:\n",
    "        # If the image is mostly  black, use the entire image\n",
    "        cv2.imwrite(dest_melanoma_test_path_with_percentage+onlyNameOfImage, original_image)\n",
    "    else:\n",
    "        # If image contain segmentation with correct or visible regions keep it\n",
    "        cv2.imwrite(dest_melanoma_test_path_with_percentage+onlyNameOfImage, segmented_image)\n",
    "           \n"
   ]
  },
  {
   "cell_type": "code",
   "execution_count": 8,
   "metadata": {},
   "outputs": [
    {
     "name": "stderr",
     "output_type": "stream",
     "text": [
      "358it [01:34,  3.77it/s]\n"
     ]
    }
   ],
   "source": [
    "#************* images of testing with Non_Melanoma ********************\n",
    "segmented_files = gb.glob(pathname= str( dest_nonMelanoma_test_path_no_percentage + '/*.png'))\n",
    "original_files = gb.glob(pathname= str( nonMelanoma_test_path_original + '/*.jpg'))     \n",
    "\n",
    "for segmented,original in tqdm(zip(segmented_files,original_files)):\n",
    "    #first get images and name of image\n",
    "    segmented_image = cv2.imread(segmented)\n",
    "    original_image = cv2.imread(original)\n",
    "    \n",
    "    #get name of input image to be the same name of final image\n",
    "    onlyNameOfImage=segmented[len(dest_nonMelanoma_test_path_no_percentage)-1:]\n",
    "    \n",
    "    # Percentage\n",
    "    # Calculate the total number of pixels\n",
    "    total_pixels = segmented_image.size\n",
    "    \n",
    "    # Calculate the number of black pixels\n",
    "    # Since it's grayscale, black pixels are 0,1,2,3,4,5\n",
    "    black_pixels = np.sum(segmented_image == 0)\n",
    "    black_pixels += np.sum(segmented_image == 1 )\n",
    "    black_pixels += np.sum(segmented_image == 2 )\n",
    "    black_pixels += np.sum(segmented_image == 3 )\n",
    "    black_pixels += np.sum(segmented_image == 4 )\n",
    "    black_pixels += np.sum(segmented_image == 5 )\n",
    "    black_pixels += np.sum(segmented_image == 6 )\n",
    "    black_pixels += np.sum(segmented_image == 7 )\n",
    "    black_pixels += np.sum(segmented_image == 8 )\n",
    "    black_pixels += np.sum(segmented_image == 9 )\n",
    "    black_pixels += np.sum(segmented_image == 10 )\n",
    "    \n",
    "    # Calculate the percentage of white and black pixels\n",
    "    percentage_black = (black_pixels / total_pixels) * 100\n",
    "    \n",
    "    threshold = 85\n",
    "    if percentage_black > threshold:\n",
    "        # If the image is mostly  black, use the entire image\n",
    "        cv2.imwrite(dest_nonMelanoma_test_path_with_percentage+onlyNameOfImage, original_image)\n",
    "    else:\n",
    "        # If image contain segmentation with correct or visible regions keep it\n",
    "        cv2.imwrite(dest_nonMelanoma_test_path_with_percentage+onlyNameOfImage, segmented_image)\n",
    "           \n"
   ]
  },
  {
   "cell_type": "code",
   "execution_count": null,
   "metadata": {},
   "outputs": [],
   "source": []
  }
 ],
 "metadata": {
  "kernelspec": {
   "display_name": "Python 3",
   "language": "python",
   "name": "python3"
  },
  "language_info": {
   "codemirror_mode": {
    "name": "ipython",
    "version": 3
   },
   "file_extension": ".py",
   "mimetype": "text/x-python",
   "name": "python",
   "nbconvert_exporter": "python",
   "pygments_lexer": "ipython3",
   "version": "3.7.4"
  }
 },
 "nbformat": 4,
 "nbformat_minor": 5
}
